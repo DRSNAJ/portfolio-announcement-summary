{
 "cells": [
  {
   "cell_type": "code",
   "execution_count": 57,
   "metadata": {},
   "outputs": [],
   "source": [
    "import feedparser\n",
    "from pprint import pprint\n",
    "import pandas as pd\n",
    "import time\n",
    "from copy import deepcopy\n",
    "from datetime import datetime"
   ]
  },
  {
   "cell_type": "code",
   "execution_count": 49,
   "metadata": {},
   "outputs": [
    {
     "name": "stdout",
     "output_type": "stream",
     "text": [
      "https://www.ft.lk/rss/news/0, entries: 0\n",
      "https://www.ft.lk/rss/news/1, entries: 0\n",
      "https://www.ft.lk/rss/news/2, entries: 0\n",
      "https://www.ft.lk/rss/news/3, entries: 0\n",
      "https://www.ft.lk/rss/news/4, entries: 10\n",
      "https://www.ft.lk/rss/news/5, entries: 10\n",
      "https://www.ft.lk/rss/news/6, entries: 10\n",
      "https://www.ft.lk/rss/news/7, entries: 0\n",
      "https://www.ft.lk/rss/news/8, entries: 10\n",
      "https://www.ft.lk/rss/news/9, entries: 0\n",
      "https://www.ft.lk/rss/news/10, entries: 10\n",
      "https://www.ft.lk/rss/news/11, entries: 0\n",
      "https://www.ft.lk/rss/news/12, entries: 0\n",
      "https://www.ft.lk/rss/news/13, entries: 10\n",
      "https://www.ft.lk/rss/news/14, entries: 10\n",
      "https://www.ft.lk/rss/news/15, entries: 10\n",
      "https://www.ft.lk/rss/news/16, entries: 10\n",
      "https://www.ft.lk/rss/news/17, entries: 0\n",
      "https://www.ft.lk/rss/news/18, entries: 10\n",
      "https://www.ft.lk/rss/news/19, entries: 10\n",
      "https://www.ft.lk/rss/news/20, entries: 10\n",
      "https://www.ft.lk/rss/news/21, entries: 10\n",
      "https://www.ft.lk/rss/news/22, entries: 10\n",
      "https://www.ft.lk/rss/news/23, entries: 10\n",
      "https://www.ft.lk/rss/news/24, entries: 0\n",
      "https://www.ft.lk/rss/news/25, entries: 10\n",
      "https://www.ft.lk/rss/news/26, entries: 10\n",
      "https://www.ft.lk/rss/news/27, entries: 10\n",
      "https://www.ft.lk/rss/news/28, entries: 10\n",
      "https://www.ft.lk/rss/news/29, entries: 0\n",
      "https://www.ft.lk/rss/news/30, entries: 10\n",
      "https://www.ft.lk/rss/news/31, entries: 10\n",
      "https://www.ft.lk/rss/news/32, entries: 10\n",
      "https://www.ft.lk/rss/news/33, entries: 10\n",
      "https://www.ft.lk/rss/news/34, entries: 10\n",
      "https://www.ft.lk/rss/news/35, entries: 10\n",
      "https://www.ft.lk/rss/news/36, entries: 10\n",
      "https://www.ft.lk/rss/news/37, entries: 1\n",
      "https://www.ft.lk/rss/news/38, entries: 10\n",
      "https://www.ft.lk/rss/news/39, entries: 10\n",
      "https://www.ft.lk/rss/news/40, entries: 10\n",
      "https://www.ft.lk/rss/news/41, entries: 10\n",
      "https://www.ft.lk/rss/news/42, entries: 10\n",
      "https://www.ft.lk/rss/news/43, entries: 10\n",
      "https://www.ft.lk/rss/news/44, entries: 10\n",
      "https://www.ft.lk/rss/news/45, entries: 10\n",
      "https://www.ft.lk/rss/news/46, entries: 10\n",
      "https://www.ft.lk/rss/news/47, entries: 10\n",
      "https://www.ft.lk/rss/news/48, entries: 10\n",
      "https://www.ft.lk/rss/news/49, entries: 10\n",
      "https://www.ft.lk/rss/news/50, entries: 10\n",
      "https://www.ft.lk/rss/news/51, entries: 10\n",
      "https://www.ft.lk/rss/news/52, entries: 10\n",
      "https://www.ft.lk/rss/news/53, entries: 10\n",
      "https://www.ft.lk/rss/news/54, entries: 10\n",
      "https://www.ft.lk/rss/news/55, entries: 10\n",
      "https://www.ft.lk/rss/news/56, entries: 10\n",
      "https://www.ft.lk/rss/news/57, entries: 10\n",
      "https://www.ft.lk/rss/news/58, entries: 10\n",
      "https://www.ft.lk/rss/news/59, entries: 0\n",
      "https://www.ft.lk/rss/news/60, entries: 0\n",
      "https://www.ft.lk/rss/news/61, entries: 0\n",
      "https://www.ft.lk/rss/news/62, entries: 0\n",
      "https://www.ft.lk/rss/news/63, entries: 0\n",
      "https://www.ft.lk/rss/news/64, entries: 0\n",
      "https://www.ft.lk/rss/news/65, entries: 0\n",
      "https://www.ft.lk/rss/news/66, entries: 0\n",
      "https://www.ft.lk/rss/news/67, entries: 0\n",
      "https://www.ft.lk/rss/news/68, entries: 0\n",
      "https://www.ft.lk/rss/news/69, entries: 0\n",
      "https://www.ft.lk/rss/news/70, entries: 0\n",
      "https://www.ft.lk/rss/news/71, entries: 0\n",
      "https://www.ft.lk/rss/news/72, entries: 0\n",
      "https://www.ft.lk/rss/news/73, entries: 0\n",
      "https://www.ft.lk/rss/news/74, entries: 0\n",
      "https://www.ft.lk/rss/news/75, entries: 0\n",
      "https://www.ft.lk/rss/news/76, entries: 0\n",
      "https://www.ft.lk/rss/news/77, entries: 0\n",
      "https://www.ft.lk/rss/news/78, entries: 0\n",
      "https://www.ft.lk/rss/news/79, entries: 0\n",
      "https://www.ft.lk/rss/news/80, entries: 0\n",
      "https://www.ft.lk/rss/news/81, entries: 0\n",
      "https://www.ft.lk/rss/news/82, entries: 0\n",
      "https://www.ft.lk/rss/news/83, entries: 0\n",
      "https://www.ft.lk/rss/news/84, entries: 0\n",
      "https://www.ft.lk/rss/news/85, entries: 0\n",
      "https://www.ft.lk/rss/news/86, entries: 0\n",
      "https://www.ft.lk/rss/news/87, entries: 0\n",
      "https://www.ft.lk/rss/news/88, entries: 0\n",
      "https://www.ft.lk/rss/news/89, entries: 0\n",
      "https://www.ft.lk/rss/news/90, entries: 0\n",
      "https://www.ft.lk/rss/news/91, entries: 0\n",
      "https://www.ft.lk/rss/news/92, entries: 0\n",
      "https://www.ft.lk/rss/news/93, entries: 0\n",
      "https://www.ft.lk/rss/news/94, entries: 0\n",
      "https://www.ft.lk/rss/news/95, entries: 0\n",
      "https://www.ft.lk/rss/news/96, entries: 0\n",
      "https://www.ft.lk/rss/news/97, entries: 0\n",
      "https://www.ft.lk/rss/news/98, entries: 0\n",
      "https://www.ft.lk/rss/news/99, entries: 0\n"
     ]
    }
   ],
   "source": [
    "daily_ft_dataframe = pd.DataFrame(columns=['summary', 'pub_date'])\n",
    "\n",
    "for i in range(100):\n",
    "    daily_ft = 'https://www.ft.lk/rss/news/{}'.format(i)\n",
    "\n",
    "    NewsFeed = feedparser.parse(daily_ft)\n",
    "    entry = NewsFeed.entries\n",
    "\n",
    "    print(daily_ft + \", entries: \" + str(len(entry)))\n",
    "\n",
    "    # Iterate over each entry and append it to the DataFrame\n",
    "    for entry_item in entry:\n",
    "        # Convert the dictionary into a DataFrame with one row\n",
    "        new_row = pd.DataFrame([{\"summary\": entry_item['summary'], \"pub_date\": entry_item['published']}])\n",
    "        \n",
    "        # Concatenate the new row to the main DataFrame\n",
    "        daily_ft_dataframe = pd.concat([daily_ft_dataframe, new_row], ignore_index=True)\n",
    "        \n",
    "    time.sleep(1)\n"
   ]
  },
  {
   "cell_type": "code",
   "execution_count": null,
   "metadata": {},
   "outputs": [],
   "source": [
    "v2 = deepcopy(daily_ft_dataframe)\n",
    "\n",
    "v2['pub_date'] = v2['pub_date'].apply(lambda x : datetime.strptime(x, \"%A, %d %B %Y %H:%M\"))"
   ]
  },
  {
   "cell_type": "code",
   "execution_count": 63,
   "metadata": {},
   "outputs": [
    {
     "data": {
      "text/plain": [
       "64"
      ]
     },
     "execution_count": 63,
     "metadata": {},
     "output_type": "execute_result"
    }
   ],
   "source": [
    "today_midnight = datetime.combine(datetime.today(), datetime.min.time())\n",
    "len(v2[v2['pub_date']>=today_midnight])"
   ]
  },
  {
   "cell_type": "code",
   "execution_count": null,
   "metadata": {},
   "outputs": [],
   "source": []
  }
 ],
 "metadata": {
  "kernelspec": {
   "display_name": "news-fetch",
   "language": "python",
   "name": "python3"
  },
  "language_info": {
   "codemirror_mode": {
    "name": "ipython",
    "version": 3
   },
   "file_extension": ".py",
   "mimetype": "text/x-python",
   "name": "python",
   "nbconvert_exporter": "python",
   "pygments_lexer": "ipython3",
   "version": "3.12.2"
  }
 },
 "nbformat": 4,
 "nbformat_minor": 2
}
